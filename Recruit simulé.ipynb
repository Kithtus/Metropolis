{
 "cells": [
  {
   "cell_type": "code",
   "execution_count": 1,
   "metadata": {},
   "outputs": [],
   "source": [
    "import numpy as np\n",
    "import matplotlib.pyplot as plt\n",
    "from tqdm import *\n",
    "import random"
   ]
  },
  {
   "cell_type": "markdown",
   "metadata": {},
   "source": [
    "# L'algorithme du recuit simulé\n",
    "\n",
    "L'algorithme du recuit simulé permet de résoudre des problèmes d'optimisation non convexe, pour lesquels la méthode de descente du gradient n'est pas appropriée. On s'intéresse ici à une application au problème du voyageur de commerce (section 6.4 dans le poly).\n",
    "\n",
    "## 1) Données numériques\n",
    "On souhaite calculer le **plus court chemin cyclique** passant par toutes les capitales des états fédéraux américains (Hawaii et Alaska exclus). Ce problème provient de la collection d'exemples [TSPLIB](http://elib.zib.de/pub/mp-testdata/tsp/tsplib/tsplib.html). Les données dont on dispose sont les cordonnées géographiques des villes, regroupées dans une matrice `uscapitals_list` :"
   ]
  },
  {
   "cell_type": "code",
   "execution_count": 2,
   "metadata": {},
   "outputs": [],
   "source": [
    "uscapitals_list = np.genfromtxt(\"uscapitals.csv\", delimiter=\",\")"
   ]
  },
  {
   "cell_type": "markdown",
   "metadata": {},
   "source": [
    "La i-ème ligne de la matrice `uscapitals_list` est le couple de coordonnées de la i-ème ville. Par exemple :"
   ]
  },
  {
   "cell_type": "code",
   "execution_count": 3,
   "metadata": {},
   "outputs": [
    {
     "name": "stdout",
     "output_type": "stream",
     "text": [
      "[401. 841.]\n"
     ]
    }
   ],
   "source": [
    "print(uscapitals_list[3])"
   ]
  },
  {
   "cell_type": "markdown",
   "metadata": {},
   "source": [
    "Dans l'exemple que nous considérons ici, le parcours optimal est connu et stocké dans la variable `uscapitals_opt` :"
   ]
  },
  {
   "cell_type": "code",
   "execution_count": 4,
   "metadata": {},
   "outputs": [
    {
     "name": "stdout",
     "output_type": "stream",
     "text": [
      "[ 0  7 37 30 43 17  6 27  5 36 18 26 16 42 29 35 45 32 19 46 20 31 38 47\n",
      "  4 41 23  9 44 34  3 25  1 28 33 40 15 21  2 22 13 24 12 10 11 14 39  8]\n"
     ]
    },
    {
     "name": "stderr",
     "output_type": "stream",
     "text": [
      "C:\\Users\\thoma\\AppData\\Local\\Temp/ipykernel_7664/1227525740.py:1: DeprecationWarning: `np.int` is a deprecated alias for the builtin `int`. To silence this warning, use `int` by itself. Doing this will not modify any behavior and is safe. When replacing `np.int`, you may wish to use e.g. `np.int64` or `np.int32` to specify the precision. If you wish to review your current use, check the release note link for additional information.\n",
      "Deprecated in NumPy 1.20; for more details and guidance: https://numpy.org/devdocs/release/1.20.0-notes.html#deprecations\n",
      "  uscapitals_opt = np.genfromtxt(\"uscapitals_opt.csv\", delimiter=\",\").astype(np.int)-1\n"
     ]
    }
   ],
   "source": [
    "uscapitals_opt = np.genfromtxt(\"uscapitals_opt.csv\", delimiter=\",\").astype(np.int)-1\n",
    "print(uscapitals_opt)"
   ]
  },
  {
   "cell_type": "markdown",
   "metadata": {},
   "source": [
    "Pour calculer la distance (en milles) entre les villes à partir de leurs cordonnées, on utilise la distance euclidienne classique :"
   ]
  },
  {
   "cell_type": "code",
   "execution_count": 5,
   "metadata": {},
   "outputs": [],
   "source": [
    "def euclidian_dist(citya, cityb):\n",
    "    return np.linalg.norm(cityb-citya)"
   ]
  },
  {
   "cell_type": "code",
   "execution_count": 6,
   "metadata": {},
   "outputs": [],
   "source": [
    "uscapitals_distances = np.zeros((len(uscapitals_list),\n",
    "                                 len(uscapitals_list)))\n",
    "for i in range(len(uscapitals_list)):\n",
    "    for j in range(len(uscapitals_list)):\n",
    "        uscapitals_distances[i,j] = euclidian_dist(uscapitals_list[i], uscapitals_list[j])"
   ]
  },
  {
   "cell_type": "code",
   "execution_count": 7,
   "metadata": {},
   "outputs": [],
   "source": [
    "cities = uscapitals_list\n",
    "optimal = uscapitals_opt\n",
    "distances = uscapitals_distances"
   ]
  },
  {
   "cell_type": "markdown",
   "metadata": {},
   "source": [
    "## 2) L'algorithme\n",
    "**Objectif à minimiser** Le coût $V$ d'un parcours est la somme des distances entres villes consécutives. On identifie un parcours avec une permutation $\\sigma$ de l'ensemble $\\{0,2,..,15\\}$, que l'on représente par une liste. $\\sigma(k)$ est donc la k-ème ville que l'on visite en suivant le parcours $\\sigma$. On a donc :\n",
    "$$\n",
    "V(\\sigma) = \\sum_{i=1}^{n-1} d(\\sigma(i), \\sigma(i+1)) + d(\\sigma(n), \\sigma(1)) \n",
    "$$\n",
    "\n",
    "**TODO** : La fonction `V` le tableau de l'ordre des villes `tour` et la matrice `distances`des distances entre villes, et retourne un nombre réel `c`."
   ]
  },
  {
   "cell_type": "code",
   "execution_count": 54,
   "metadata": {},
   "outputs": [],
   "source": [
    "def V(tour, distances):\n",
    "    c = 0\n",
    "    for i in range (len(tour)-1):#On itère pour calculer les distances entre les viles i et i+1 pour i allant de 1 à n-1\n",
    "        c+=distances[tour[i],tour[i+1]]\n",
    "    c+=distances[tour[-1],tour[0]] #On rajoute la dernière distance entre la ville n et 1 pour revenir à notre point de départ\n",
    "    return c"
   ]
  },
  {
   "cell_type": "markdown",
   "metadata": {},
   "source": [
    "**Algorithme du recuit simulé :** À chaque itération, l'algorithme propose un nouveau parcours, obtenu en tirant au hasard deux nombres $i$ et $j$ et en invertissant les villes $\\sigma(i)$ et $\\sigma(j)$ dans l'état courant.\n",
    "\n",
    "**TODO** : La fonction `proposition` prend un tableau d'ordre des villes et retourne un nouveau tableau permuté. Par exemple, `proposition([0,1,2,3,4])` pourrait produire `[1,0,2,3,4]`."
   ]
  },
  {
   "cell_type": "code",
   "execution_count": 160,
   "metadata": {},
   "outputs": [
    {
     "name": "stdout",
     "output_type": "stream",
     "text": [
      "Exemple : [0, 1, 2, 3, 4] -> [2, 1, 0, 3, 4]\n"
     ]
    }
   ],
   "source": [
    "def proposition(tour):\n",
    "    i_different_j=False #Booléen vérifiant que i est différent de j pour être sûr que l'on a bien une permutation\n",
    "    prop=tour.copy()\n",
    "    while (i_different_j==False):\n",
    "        ##On tire au hasard deux entiers inférieurs à la longueur de la liste tour\n",
    "        i=np.random.randint(0,len(tour))#\n",
    "        j=np.random.randint(0,len(tour))\n",
    "        if (i!=j):\n",
    "            ##Si les entiers sont différents, on effectue la permutation et on change la valeur du booléen i_différent_j pour sortir de la boucle whi\n",
    "            tmp=prop[i]\n",
    "            prop[i]=prop[j]\n",
    "            prop[j]=tmp\n",
    "            i_different_j=True\n",
    "    return prop\n",
    "print(\"Exemple :\", [0,1,2,3,4], \"->\", proposition([0,1,2,3,4]))"
   ]
  },
  {
   "cell_type": "markdown",
   "metadata": {},
   "source": [
    "Le deuxième ingrédient est le schéma de température, qui régit la décroissance de la température au cours du temps. Plusieurs choix sont possibles. On utilise pour commencer une décroissance polynomiale :"
   ]
  },
  {
   "cell_type": "code",
   "execution_count": 12,
   "metadata": {},
   "outputs": [],
   "source": [
    "def T(i):\n",
    "    return 300*((i+1)**(-0.03))"
   ]
  },
  {
   "cell_type": "markdown",
   "metadata": {},
   "source": [
    "**TODO** : Dans la fonction suivante, on implémente l'algorithme. Les arguments sont\n",
    "- la matrice des distances entre villes `distances`\n",
    "- le nombre d'itérations `N_iter`\n",
    "- l'état initial `initial_tour`\n",
    "- une fonction de proposition de changement `proposition`\n",
    "- une fonction `T` pour le schéma de température\n",
    "\n",
    "\n",
    "La fonction retourne \n",
    "- l'état final `tour` après `N_iter` étapes \n",
    "- l'état  `best` qui a la valeur minimale pour la fonction coût (`V`) parmi tous les états visités \n",
    "- la liste `costseq` des valeurs de la fonction coût à chaque étape de l'algorithme\n",
    "- la liste `bestseq` des meilleures valeurs dans la fonction coût trouvées par l'algorithme"
   ]
  },
  {
   "cell_type": "code",
   "execution_count": 243,
   "metadata": {},
   "outputs": [],
   "source": [
    "def recuit_simule(distances, N_iter, initial_tour, proposition, T):\n",
    "    \n",
    "    tour=initial_tour\n",
    "    best=initial_tour\n",
    "\n",
    "    costseq=[]\n",
    "    bestseq=[V(tour,distances)]\n",
    "    for i in range (N_iter):\n",
    "        temperature=T(i)\n",
    "        \n",
    "        tour_plus_un=proposition(tour)\n",
    "        if (np.array_equal(tour,tour_plus_un)):\n",
    "            print(1)\n",
    "        cout_tour=V(tour,distances)\n",
    "        cout_tour_plus_un=V(tour_plus_un,distances)\n",
    "        \n",
    "        difference_cout=cout_tour_plus_un-cout_tour\n",
    "        u_n_plus_un=np.random.uniform()\n",
    "        \n",
    "        if (difference_cout<0):\n",
    "            \n",
    "            costseq.append(cout_tour_plus_un)\n",
    "            tour=tour_plus_un\n",
    "            if (cout_tour_plus_un<bestseq[-1]):\n",
    "                best=tour_plus_un\n",
    "                bestseq.append(cout_tour_plus_un)\n",
    "        else:\n",
    "            if (u_n_plus_un<np.exp(-difference_cout/temperature)):\n",
    "                tour=tour_plus_un\n",
    "                costseq.append(cout_tour_plus_un)\n",
    "                if (cout_tour_plus_un<bestseq[-1]):\n",
    "                    best=tour_plus_un\n",
    "                    bestseq.append(cout_tour_plus_un)\n",
    "    return tour, best, costseq, bestseq"
   ]
  },
  {
   "cell_type": "markdown",
   "metadata": {},
   "source": [
    "Une collection d'états initiaux possibles est stockée dans la liste `problem_initial_tours` : le $i$-ème élément est obtenu en appliquant $i$ transpositions aléatoires au parcours optimal."
   ]
  },
  {
   "cell_type": "code",
   "execution_count": 172,
   "metadata": {},
   "outputs": [],
   "source": [
    "problem_initial_tours = []\n",
    "for i in range(10):\n",
    "    problem_initial_tours.append(optimal.copy())\n",
    "    for k in range(i):\n",
    "        problem_initial_tours[i] = proposition(problem_initial_tours[i])"
   ]
  },
  {
   "cell_type": "markdown",
   "metadata": {},
   "source": [
    "On peut à présent tester l'algorithme et visualiser la décroissance dans la fonction objectif :"
   ]
  },
  {
   "cell_type": "code",
   "execution_count": 244,
   "metadata": {},
   "outputs": [],
   "source": [
    "N_iter = 10000\n",
    "i = 8\n",
    "initial_tour = problem_initial_tours[i]\n",
    "\n",
    "tour, best, cseq, bseq = recuit_simule(distances, N_iter, initial_tour, proposition, T)"
   ]
  },
  {
   "cell_type": "code",
   "execution_count": 248,
   "metadata": {},
   "outputs": [
    {
     "data": {
      "text/plain": [
       "(42153.72176652503, 44223.18721381464)"
      ]
     },
     "execution_count": 248,
     "metadata": {},
     "output_type": "execute_result"
    }
   ],
   "source": [
    "V(best,distances),cseq[-1]"
   ]
  },
  {
   "cell_type": "code",
   "execution_count": 206,
   "metadata": {},
   "outputs": [],
   "source": [
    "def plot_recuit(cseq, bseq, best, optimal, legend=True, label=\"\"):\n",
    "    p1 = plt.axhline(V(optimal, distances), label='Valeur optimale', c=\"black\", ls=\"--\")\n",
    "    p2, = plt.plot(cseq, label='V(X_n) '+label)\n",
    "    p3, = plt.plot(bseq, label='V(Best_n) '+label)\n",
    "    if legend:\n",
    "        plt.legend(fontsize=12)\n",
    "        plt.ylabel(\"Fonction objectif\", fontsize=12)\n",
    "        plt.xlabel(\"Nombre d'itérations\", fontsize=12)"
   ]
  },
  {
   "cell_type": "code",
   "execution_count": 246,
   "metadata": {},
   "outputs": [
    {
     "name": "stdout",
     "output_type": "stream",
     "text": [
      "La différence entre la meilleure valeur de la fonction coût trouvée par l'algorithme et la valeur optimale est 8630.013259089435\n"
     ]
    },
    {
     "data": {
      "image/png": "[encoded data removed]",
      "text/plain": [
       "<Figure size 432x288 with 1 Axes>"
      ]
     },
     "metadata": {
      "needs_background": "light"
     },
     "output_type": "display_data"
    }
   ],
   "source": [
    "gap = V(best, distances) - V(optimal, distances)\n",
    "print(\"La différence entre la meilleure valeur de la fonction coût trouvée par l'algorithme et la valeur optimale est\", gap)\n",
    "plot_recuit(cseq, bseq, best, optimal)"
   ]
  },
  {
   "cell_type": "code",
   "execution_count": 247,
   "metadata": {},
   "outputs": [
    {
     "data": {
      "image/png": "[encoded data removed]",
      "text/plain": [
       "<Figure size 864x432 with 2 Axes>"
      ]
     },
     "metadata": {
      "needs_background": "light"
     },
     "output_type": "display_data"
    }
   ],
   "source": [
    "tt = optimal\n",
    "total = len(cities)\n",
    "\n",
    "plt.figure(figsize=(12,6))\n",
    "\n",
    "plt.subplot(1, 2, 1)\n",
    "plt.title('Solution optimale')\n",
    "for i in range(total-1):\n",
    "    plt.plot(np.array([cities[tt[i], 0], cities[tt[i+1], 0]]),\n",
    "             np.array([cities[tt[i], 1], cities[tt[i+1], 1]]), '-ro')\n",
    "plt.plot(np.array([cities[tt[total-1], 0], cities[tt[0], 0]]), np.array(\n",
    "    [cities[tt[total-1], 1], cities[tt[0], 1]]), '-ro')\n",
    "\n",
    "plt.subplot(1, 2, 2)\n",
    "plt.title('Meilleure solution du recuit simulé')\n",
    "for i in range(total-1):\n",
    "    plt.plot(np.array([cities[best[i], 0], cities[best[i+1], 0]]),\n",
    "             np.array([cities[best[i], 1], cities[best[i+1], 1]]), '-bo')\n",
    "\n",
    "plt.plot(np.array([cities[best[total-1], 0], cities[best[0], 0]]), np.array(\n",
    "    [cities[best[total-1], 1], cities[best[0], 1]]), '-bo')\n",
    "plt.show()"
   ]
  },
  {
   "cell_type": "markdown",
   "metadata": {},
   "source": [
    "## 3) Rôle de la proposition de changement\n",
    "\n",
    "Dans la partie précédente, nous avons considéré la proposition de changement consistant à intervertir deux villes choisies au hasard. D'autres propositions sont possibles. Par exemple, au lieu d'intervertir deux villes, on peut en intervertir $k > 1$."
   ]
  },
  {
   "cell_type": "markdown",
   "metadata": {},
   "source": [
    "Une autre possibilité consiste à choisir deux villes $i,j$ au hasard et à les intervertir dans le parcours, ainsi que toutes les villes entre les deux.\n",
    "\n",
    "**TODO** : implémenter la fonction `proposition_reverse`, qui prend un tableau d'ordre des villes et retourne un tableau permuté. Par exemple, `proposition_reverse([0, 1, 2, 3, 4, 5, 6])` pourrait produire `[0, 1, 2, 5, 4, 3, 6]`."
   ]
  },
  {
   "cell_type": "code",
   "execution_count": 232,
   "metadata": {},
   "outputs": [
    {
     "name": "stdout",
     "output_type": "stream",
     "text": [
      "Exemple : [0, 1, 2, 3, 4, 5, 6] -> [0, 1, 2, 6, 4, 5, 3]\n"
     ]
    }
   ],
   "source": [
    "def proposition_reverse(tour):\n",
    "    i_different_j=False #Booléen vérifiant que i est différent de j pour être sûr que l'on a bien une permutation\n",
    "    prop=tour.copy()\n",
    "    while (i_different_j==False):\n",
    "        ##On tire au hasard deux entiers inférieurs à la longueur de la liste tour\n",
    "        i=np.random.randint(0,len(tour))#\n",
    "        j=np.random.randint(0,len(tour))\n",
    "        if (i!=j):\n",
    "            tmp=prop[i]\n",
    "            prop[i]=prop[j]\n",
    "            prop[j]=tmp\n",
    "            prop[i+1:j]=np.random.permutation(prop[i+1:j])\n",
    "            i_different_j=True\n",
    "    return prop\n",
    "print(\"Exemple :\", [0,1,2,3,4,5,6], \"->\", proposition_reverse([0,1,2,3,4,5,6]))"
   ]
  },
  {
   "cell_type": "code",
   "execution_count": 249,
   "metadata": {},
   "outputs": [
    {
     "name": "stdout",
     "output_type": "stream",
     "text": [
      "La différence entre la meilleure valeur de la fonction coût trouvée par l'algorithme et la valeur optimale est 7753.44062462791\n"
     ]
    },
    {
     "data": {
      "image/png": "[encoded data removed]",
      "text/plain": [
       "<Figure size 432x288 with 1 Axes>"
      ]
     },
     "metadata": {
      "needs_background": "light"
     },
     "output_type": "display_data"
    }
   ],
   "source": [
    "tour, best, cseq, bseq = recuit_simule(distances, 5000, initial_tour, proposition_reverse, T)\n",
    "gap = V(best, distances) - V(optimal, distances)\n",
    "print(\"La différence entre la meilleure valeur de la fonction coût trouvée par l'algorithme et la valeur optimale est\", gap)\n",
    "plot_recuit(cseq, bseq, best, optimal, label=\"(reversed)\")"
   ]
  },
  {
   "cell_type": "markdown",
   "metadata": {},
   "source": [
    "Enfin, on peut raffiner la règle `proposition_reverse` pour favoriser les interversions entre sommets proches dans l'itinéraire.\n",
    "Par exemple, étant donné un sommet aléatoire $i$, on choisit le sommet $j$ avec probabilité $\\frac C{|i-j|+1}$, avec $C$ une constante de normalisation.\n",
    "\n",
    "**TODO** : adapter la fonction `proposition_reverse` pour ajouter une pondération dans le choix des sommets (on pourra utiliser la fonction `np.choice`)."
   ]
  },
  {
   "cell_type": "code",
   "execution_count": 259,
   "metadata": {},
   "outputs": [
    {
     "name": "stdout",
     "output_type": "stream",
     "text": [
      "Exemple : [0, 1, 2, 3, 4, 5, 6] -> [0, 1, 3, 2, 4, 5, 6]\n"
     ]
    }
   ],
   "source": [
    "def proposition_reverse_weighted(tour):\n",
    "    prop=tour.copy()\n",
    "    i=np.random.randint(0,len(tour))\n",
    "    proba=[1/(abs(i-j)+1) for j in range(len(tour)) if j!=i]\n",
    "    proba=np.insert(proba,i,0)\n",
    "    C=1/np.sum(proba)\n",
    "    j=np.random.choice(len(tour),p=np.multiply(C,proba))\n",
    "    tmp=prop[i]\n",
    "    prop[i]=prop[j]\n",
    "    prop[j]=tmp\n",
    "    prop[i+1:j]=np.random.permutation(prop[i+1:j])\n",
    "    return prop\n",
    "print(\"Exemple :\", [0,1,2,3,4,5,6], \"->\", proposition_reverse_weighted([0,1,2,3,4,5,6]))"
   ]
  },
  {
   "cell_type": "code",
   "execution_count": 256,
   "metadata": {},
   "outputs": [
    {
     "data": {
      "text/plain": [
       "array([0.33333333, 0.5       , 0.        , 0.5       , 0.33333333,\n",
       "       0.25      ])"
      ]
     },
     "execution_count": 256,
     "metadata": {},
     "output_type": "execute_result"
    }
   ],
   "source": [
    "tour=[1,5,8,6,4,7]\n",
    "i=2\n",
    "proba=[1/(abs(i-j)+1) for j in range(len(tour)) if j!=i]\n",
    "proba=np.insert(proba,i,0)\n",
    "proba"
   ]
  },
  {
   "cell_type": "code",
   "execution_count": 260,
   "metadata": {},
   "outputs": [
    {
     "name": "stdout",
     "output_type": "stream",
     "text": [
      "La différence entre la meilleure valeur de la fonction coût trouvée par l'algorithme et la valeur optimale est 14298.1357288855\n"
     ]
    },
    {
     "data": {
      "image/png": "[encoded data removed]",
      "text/plain": [
       "<Figure size 432x288 with 1 Axes>"
      ]
     },
     "metadata": {
      "needs_background": "light"
     },
     "output_type": "display_data"
    }
   ],
   "source": [
    "tour, best, cseq, bseq = recuit_simule(distances, 5000, initial_tour, proposition_reverse_weighted, T)\n",
    "gap = V(best, distances) - V(optimal, distances)\n",
    "print(\"La différence entre la meilleure valeur de la fonction coût trouvée par l'algorithme et la valeur optimale est\", gap)\n",
    "plot_recuit(cseq, bseq, best, optimal, label=\"(reversed weighted)\")"
   ]
  },
  {
   "cell_type": "markdown",
   "metadata": {},
   "source": [
    "Les méthodes `proposition_reverse` et `proposition_reverse_weighted` donnent des résultats proches à première vue. Pour les comparer, on effectue chaque simulation 50 fois et on compare les histogrammes des performances :"
   ]
  },
  {
   "cell_type": "code",
   "execution_count": 261,
   "metadata": {},
   "outputs": [],
   "source": [
    "gaps_reverse = []\n",
    "for _ in range(50):\n",
    "    tour, best, cseq, bseq = recuit_simule(distances, 5000, initial_tour, proposition_reverse, T)\n",
    "    gap = V(best, distances) - V(optimal, distances)\n",
    "    gaps_reverse.append(gap)"
   ]
  },
  {
   "cell_type": "code",
   "execution_count": 262,
   "metadata": {},
   "outputs": [],
   "source": [
    "gaps_reverse_weighted = []\n",
    "for _ in range(50):\n",
    "    tour, best, cseq, bseq = recuit_simule(distances, 5000, initial_tour, proposition_reverse_weighted, T)\n",
    "    gap = V(best, distances) - V(optimal, distances)\n",
    "    gaps_reverse_weighted.append(gap)"
   ]
  },
  {
   "cell_type": "code",
   "execution_count": 263,
   "metadata": {},
   "outputs": [
    {
     "data": {
      "image/png": "[encoded data removed]",
      "text/plain": [
       "<Figure size 432x288 with 1 Axes>"
      ]
     },
     "metadata": {
      "needs_background": "light"
     },
     "output_type": "display_data"
    }
   ],
   "source": [
    "plt.hist(gaps_reverse ,label=\"reverse\")\n",
    "plt.hist(gaps_reverse_weighted, label=\"reverse_weighted\", alpha=0.7)\n",
    "plt.legend()\n",
    "plt.show()"
   ]
  },
  {
   "cell_type": "markdown",
   "metadata": {},
   "source": [
    "## 4) Schéma de température\n",
    "\n",
    "On a utilisé jusqu'ici le schéma de température $T(i) = 300(i+1)^{-0.3}$ à décroissance polynomiale. D'autres choix sont bien sûr possibles.\n",
    "On peut par exemple varier les constantes du schéma $T_{polynomial}(i) = a(i+1)^b$ :"
   ]
  },
  {
   "cell_type": "code",
   "execution_count": null,
   "metadata": {},
   "outputs": [],
   "source": [
    "def T_polynomial(a, b):\n",
    "    def T(i):\n",
    "        return a*((i+1)**b)\n",
    "    return T"
   ]
  },
  {
   "cell_type": "markdown",
   "metadata": {},
   "source": [
    "On peut maintenant tester la performance de l'algorithme du recuit simulé sur plusieurs valeurs de $a$ et $b$ :"
   ]
  },
  {
   "cell_type": "code",
   "execution_count": null,
   "metadata": {},
   "outputs": [],
   "source": [
    "plt.figure(figsize=(10,10))\n",
    "plt.subplots_adjust(hspace=0.3)\n",
    "i = 1\n",
    "for a in [100, 300, 1000]:\n",
    "    for b in [-0.01, -0.03, -0.05]:\n",
    "        T = T_polynomial(a, b)\n",
    "        tour, best, cseq, bseq = recuit_simule(distances, 5000, initial_tour, proposition, T)\n",
    "        gap = V(best, distances) - V(optimal, distances)\n",
    "        plt.subplot(3,3,i)\n",
    "        plt.title(\"a={}, b={}, gap={}\".format(a,b,round(gap)))\n",
    "        plot_recuit(cseq, bseq, best, optimal, legend=False)\n",
    "        i += 1\n",
    "plt.show()"
   ]
  },
  {
   "cell_type": "markdown",
   "metadata": {},
   "source": [
    "A titre de comparaison, on peut également tester un schéma de température à décroissance exponentielle $T_{exponential}(i) = a*b^i$ (avec $0<b<1$)."
   ]
  },
  {
   "cell_type": "code",
   "execution_count": null,
   "metadata": {},
   "outputs": [],
   "source": [
    "def T_exponential(a, b):\n",
    "    # TODO\n",
    "    return T"
   ]
  },
  {
   "cell_type": "markdown",
   "metadata": {},
   "source": [
    "**TODO** : faire des tests similaires pour les températures exponentielles. $a$ est de l'ordre de $10^3$-$10^4$, et $b$ doit être proche de 1. Si on veut faire tourner le code pour $N_{iter} =5000$, il vaut mieux choisir $b$ entre $0.999$ et $1$ pour eviter des erreurs de compilation (overflow)."
   ]
  },
  {
   "cell_type": "code",
   "execution_count": null,
   "metadata": {},
   "outputs": [],
   "source": [
    "# TODO"
   ]
  },
  {
   "cell_type": "markdown",
   "metadata": {},
   "source": [
    "On peut aussi utiliser des schémas non décroissants : l'idée est alors d'alterner les phases de réchauffement et de refroidissement. On essaye ici $T_{oscillatory}(i) = a(i+1)^b(\\cos((2\\pi i)/c)^2+d)$."
   ]
  },
  {
   "cell_type": "code",
   "execution_count": null,
   "metadata": {},
   "outputs": [],
   "source": [
    "def T_oscillatory(a, b, c, d):\n",
    "    def T(i):\n",
    "        return a*((i+1)**b)*(np.cos(2*np.pi*i/c)**2 + d)\n",
    "    return T\n",
    "\n",
    "x = np.linspace(0,2000,200)\n",
    "plt.plot(x, T_oscillatory(500,-0.3,1600,0.2)(x), label=\"T_oscillatory\")\n",
    "plt.plot(x, T_polynomial(300,-0.3)(x), label=\"T_polynomial\")\n",
    "plt.axhline(0, c=\"black\")\n",
    "plt.legend(fontsize=12)\n",
    "plt.show()"
   ]
  },
  {
   "cell_type": "markdown",
   "metadata": {},
   "source": [
    "**TODO** : observer le comportement du schéma de température oscillant et l'influence des paramètres du schéma sur le résultat."
   ]
  },
  {
   "cell_type": "markdown",
   "metadata": {},
   "source": [
    "## 5) Pour aller plus loin..."
   ]
  },
  {
   "cell_type": "markdown",
   "metadata": {},
   "source": [
    "Vous pouvez tester l'algorithme sur des instances plus difficiles. Les données sont organisées comme celles du problème `us_capitals`.\n",
    "- Le problème `gr96` consiste à calculer le plus court cycle reliant 96 villes en Afrique\n",
    "- Le problème `tsp225` relie 225 villes générées automatiquement\n",
    "\n",
    "Dans le jeux de données `gr96`, les villes sont données en coordonnées sphériques (latitude, longitude). Pour calculer les distances entre villes, on utilise la fonction `earth_dist`, définie ci-dessous à l'aide du module `geopy` ([disponible](https://pypi.org/project/geopy/) via `pip`) :"
   ]
  },
  {
   "cell_type": "code",
   "execution_count": null,
   "metadata": {},
   "outputs": [],
   "source": [
    "from geopy import distance\n",
    "\n",
    "def earth_dist(citya, cityb):\n",
    "    return distance.distance(citya, cityb).miles"
   ]
  },
  {
   "cell_type": "code",
   "execution_count": null,
   "metadata": {},
   "outputs": [],
   "source": [
    "gr96_list = np.genfromtxt(\"gr96.csv\", delimiter=\",\")\n",
    "gr96_opt = np.genfromtxt(\"gr96_opt.csv\", delimiter=\",\").astype(np.int)-1\n",
    "gr96_distances = np.array([[earth_dist(ca, cb) for ca in gr96_list] for cb in gr96_list])"
   ]
  },
  {
   "cell_type": "code",
   "execution_count": null,
   "metadata": {},
   "outputs": [],
   "source": [
    "tsp225_list = np.genfromtxt(\"tsp225.csv\", delimiter=\",\")\n",
    "tsp225_opt = np.genfromtxt(\"tsp225_opt.csv\", delimiter=\",\").astype(np.int)-1\n",
    "tsp225_distances = np.array([[euclidian_dist(ca, cb) for ca in tsp225_list] for cb in tsp225_list])"
   ]
  },
  {
   "cell_type": "code",
   "execution_count": null,
   "metadata": {},
   "outputs": [],
   "source": [
    "cities = gr96_list\n",
    "optimal = gr96_opt\n",
    "distances = gr96_distances"
   ]
  },
  {
   "cell_type": "markdown",
   "metadata": {},
   "source": [
    "## 6) Conclusions\n",
    "1. Que fait l'algorithme du recuit simulé ? Pour quels types de problèmes est-il pertinent ?"
   ]
  },
  {
   "cell_type": "markdown",
   "metadata": {},
   "source": []
  },
  {
   "cell_type": "markdown",
   "metadata": {},
   "source": [
    "2. Quel est le rôle de la proposition de changement ? Comment la choisir ?"
   ]
  },
  {
   "cell_type": "markdown",
   "metadata": {},
   "source": []
  },
  {
   "cell_type": "markdown",
   "metadata": {},
   "source": [
    "3. Quel est le rôle du schéma de température ? Comment le choisir ?"
   ]
  },
  {
   "cell_type": "markdown",
   "metadata": {},
   "source": []
  }
 ],
 "metadata": {
  "kernelspec": {
   "display_name": "Python 3",
   "language": "python",
   "name": "python3"
  },
  "language_info": {
   "codemirror_mode": {
    "name": "ipython",
    "version": 3
   },
   "file_extension": ".py",
   "mimetype": "text/x-python",
   "name": "python",
   "nbconvert_exporter": "python",
   "pygments_lexer": "ipython3",
   "version": "3.9.7"
  }
 },
 "nbformat": 4,
 "nbformat_minor": 4
}
